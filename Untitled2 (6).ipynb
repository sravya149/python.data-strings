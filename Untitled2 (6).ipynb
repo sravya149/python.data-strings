{
 "cells": [
  {
   "cell_type": "markdown",
   "metadata": {},
   "source": [
    "# #string data structures"
   ]
  },
  {
   "cell_type": "markdown",
   "metadata": {},
   "source": [
    "removing strings\n",
    "strip():remove the spaces both sides of string\n",
    "rstrip():removes the spaces right side of string\n",
    "lstrip():removes the spaces left side of string"
   ]
  },
  {
   "cell_type": "code",
   "execution_count": 1,
   "metadata": {},
   "outputs": [
    {
     "name": "stdout",
     "output_type": "stream",
     "text": [
      "enter stringsravya\n",
      "sravya\n"
     ]
    }
   ],
   "source": [
    "s=input(\"enter string\")\n",
    "print(s)"
   ]
  },
  {
   "cell_type": "code",
   "execution_count": 2,
   "metadata": {},
   "outputs": [
    {
     "name": "stdout",
     "output_type": "stream",
     "text": [
      "enter string sravya\n",
      "sravya\n"
     ]
    }
   ],
   "source": [
    "s=input(\"enter string\")\n",
    "s1=s.strip()\n",
    "print(s1)"
   ]
  },
  {
   "cell_type": "code",
   "execution_count": 3,
   "metadata": {},
   "outputs": [
    {
     "name": "stdout",
     "output_type": "stream",
     "text": [
      "enter string  sravyachowdary\n",
      "  sravyachowdary\n",
      "please remove the spaces\n"
     ]
    }
   ],
   "source": [
    "s=input(\"enter string\")\n",
    "print(s)\n",
    "if s==\"sravyachowdary\":\n",
    "    print(\"spaces removed\")\n",
    "else:\n",
    "    print(\"please remove the spaces\")"
   ]
  },
  {
   "cell_type": "markdown",
   "metadata": {},
   "source": [
    "s=input(\"enter string\")\n",
    "print(s)\n",
    "if s==\"sravyachowdary\":\n",
    "    print(\"spaces removed\")\n",
    "else:\n",
    "    print(\"please remove the spaces\")\n",
    "    s1=s.strip()\n",
    "if s1==\"sravyachowdary\":\n",
    "    print(\"spaces removed by strip function\")"
   ]
  },
  {
   "cell_type": "markdown",
   "metadata": {},
   "source": [
    "finding substring\n",
    "for forward direction:\n",
    "1.find()\n",
    "2.index()\n",
    "backward direction:\n",
    "1.rfind()\n",
    "2.rindex()\n"
   ]
  },
  {
   "cell_type": "markdown",
   "metadata": {},
   "source": [
    "syntax:\n",
    "       s.find (substring)"
   ]
  },
  {
   "cell_type": "markdown",
   "metadata": {},
   "source": [
    "returns index to the first occurance of the given substring to the main string"
   ]
  },
  {
   "cell_type": "code",
   "execution_count": 6,
   "metadata": {},
   "outputs": [
    {
     "name": "stdout",
     "output_type": "stream",
     "text": [
      "6\n"
     ]
    }
   ],
   "source": [
    "s=\"hello sravya Good morning, hello good evening\"\n",
    "print(s.find(\"sravya\"))"
   ]
  },
  {
   "cell_type": "code",
   "execution_count": 7,
   "metadata": {},
   "outputs": [
    {
     "name": "stdout",
     "output_type": "stream",
     "text": [
      "-1\n"
     ]
    }
   ],
   "source": [
    "s=\"hello sravya Good morning, hello good evening\"\n",
    "print(s.find(\"vamshi\"))"
   ]
  },
  {
   "cell_type": "code",
   "execution_count": 8,
   "metadata": {},
   "outputs": [
    {
     "name": "stdout",
     "output_type": "stream",
     "text": [
      "-1\n"
     ]
    }
   ],
   "source": [
    "s=\"hello sravya Good morning, hello good evening\"\n",
    "print(s.find('w'))"
   ]
  },
  {
   "cell_type": "code",
   "execution_count": 9,
   "metadata": {},
   "outputs": [
    {
     "name": "stdout",
     "output_type": "stream",
     "text": [
      "34\n",
      "-1\n",
      "39\n",
      "6\n"
     ]
    }
   ],
   "source": [
    "s=\"hello sravya goood morning, hello good evening\"\n",
    "print(s.find(\"good\"))\n",
    "print(s.find(\"vamshi\"))\n",
    "print(s.find(\"evening\"))\n",
    "print(s.find(\"sravya\"))"
   ]
  },
  {
   "cell_type": "code",
   "execution_count": 10,
   "metadata": {},
   "outputs": [
    {
     "name": "stdout",
     "output_type": "stream",
     "text": [
      "6\n"
     ]
    }
   ],
   "source": [
    "s=\"hello sravya good morning\"\n",
    "print(s.find('s'))"
   ]
  },
  {
   "cell_type": "code",
   "execution_count": 11,
   "metadata": {},
   "outputs": [
    {
     "name": "stdout",
     "output_type": "stream",
     "text": [
      "-1\n"
     ]
    }
   ],
   "source": [
    "s=\"hello sravya good morning\"\n",
    "print(s.find('N'))"
   ]
  },
  {
   "cell_type": "markdown",
   "metadata": {},
   "source": [
    "Boundaries syntax:\n",
    "                 s.find(substring,startindex,endindex)"
   ]
  },
  {
   "cell_type": "code",
   "execution_count": 15,
   "metadata": {},
   "outputs": [
    {
     "name": "stdout",
     "output_type": "stream",
     "text": [
      "15\n"
     ]
    }
   ],
   "source": [
    "s=\"hello vamshi tej chowdary how are you\"\n",
    "print(s.find('j',2,25))"
   ]
  },
  {
   "cell_type": "markdown",
   "metadata": {},
   "source": [
    "index():this is same as find method except that if the substring is not found it will give value error\n"
   ]
  },
  {
   "cell_type": "code",
   "execution_count": 17,
   "metadata": {},
   "outputs": [
    {
     "name": "stdout",
     "output_type": "stream",
     "text": [
      "19\n"
     ]
    }
   ],
   "source": [
    "s=\"hello challagundla sravya chowadry\"\n",
    "print(s.index(\"sravya\"))"
   ]
  },
  {
   "cell_type": "code",
   "execution_count": 18,
   "metadata": {},
   "outputs": [
    {
     "ename": "ValueError",
     "evalue": "substring not found",
     "output_type": "error",
     "traceback": [
      "\u001b[1;31m---------------------------------------------------------------------------\u001b[0m",
      "\u001b[1;31mValueError\u001b[0m                                Traceback (most recent call last)",
      "\u001b[1;32m<ipython-input-18-27896c160b39>\u001b[0m in \u001b[0;36m<module>\u001b[1;34m\u001b[0m\n\u001b[0;32m      1\u001b[0m \u001b[0ms\u001b[0m\u001b[1;33m=\u001b[0m\u001b[1;34m\"hello challagundal sravya chowdary\"\u001b[0m\u001b[1;33m\u001b[0m\u001b[1;33m\u001b[0m\u001b[0m\n\u001b[1;32m----> 2\u001b[1;33m \u001b[0mprint\u001b[0m\u001b[1;33m(\u001b[0m\u001b[0ms\u001b[0m\u001b[1;33m.\u001b[0m\u001b[0mindex\u001b[0m\u001b[1;33m(\u001b[0m\u001b[1;34m\"vamshi\"\u001b[0m\u001b[1;33m)\u001b[0m\u001b[1;33m)\u001b[0m\u001b[1;33m\u001b[0m\u001b[1;33m\u001b[0m\u001b[0m\n\u001b[0m",
      "\u001b[1;31mValueError\u001b[0m: substring not found"
     ]
    }
   ],
   "source": [
    "s=\"hello challagundal sravya chowdary\"\n",
    "print(s.index(\"vamshi\"))"
   ]
  },
  {
   "cell_type": "markdown",
   "metadata": {},
   "source": [
    "exception handle:In exception handle we use (try,except) to overcome the value error"
   ]
  },
  {
   "cell_type": "code",
   "execution_count": 23,
   "metadata": {},
   "outputs": [
    {
     "name": "stdout",
     "output_type": "stream",
     "text": [
      "substring not found\n"
     ]
    }
   ],
   "source": [
    "s=\"hello challagundla sravya chowdary\"\n",
    "try:\n",
    "    print(s.index(\"vamshi\"))\n",
    "except:\n",
    "    print(\"substring not found\")"
   ]
  },
  {
   "cell_type": "markdown",
   "metadata": {},
   "source": [
    "counting substring in main string:"
   ]
  },
  {
   "cell_type": "code",
   "execution_count": 26,
   "metadata": {},
   "outputs": [
    {
     "name": "stdout",
     "output_type": "stream",
     "text": [
      "3\n"
     ]
    }
   ],
   "source": [
    "s=\"hello good evening, good , hello, hello, how are you\"\n",
    "print(s.count(\"hello\"))"
   ]
  },
  {
   "cell_type": "code",
   "execution_count": 29,
   "metadata": {},
   "outputs": [
    {
     "name": "stdout",
     "output_type": "stream",
     "text": [
      "1\n"
     ]
    }
   ],
   "source": [
    "s=\"hello good evening, good , hello, hello, how are you\"\n",
    "print(s.count(\"hello\",0,10))"
   ]
  },
  {
   "cell_type": "markdown",
   "metadata": {},
   "source": [
    "Replacing a string with another string:"
   ]
  },
  {
   "cell_type": "code",
   "execution_count": 32,
   "metadata": {},
   "outputs": [
    {
     "name": "stdout",
     "output_type": "stream",
     "text": [
      "sravya good morning,sravya,sravya,how are you\n"
     ]
    }
   ],
   "source": [
    "s=\"hello good morning,hello,hello,how are you\"\n",
    "s1=s.replace(\"hello\",\"sravya\")\n",
    "print(s1)\n"
   ]
  },
  {
   "cell_type": "code",
   "execution_count": 33,
   "metadata": {},
   "outputs": [
    {
     "name": "stdout",
     "output_type": "stream",
     "text": [
      "sravya good morning,sravya,sravya,how are you\n",
      "hello good morning,hello,hello,how are you\n"
     ]
    }
   ],
   "source": [
    "s=\"hello good morning,hello,hello,how are you\"\n",
    "s1=s.replace(\"hello\",\"sravya\")\n",
    "print(s1)\n",
    "print(s)\n"
   ]
  },
  {
   "cell_type": "markdown",
   "metadata": {},
   "source": [
    "to calculate the adrees of a string:"
   ]
  },
  {
   "cell_type": "code",
   "execution_count": 34,
   "metadata": {},
   "outputs": [
    {
     "name": "stdout",
     "output_type": "stream",
     "text": [
      "sravya good morning\n",
      "1471384354864\n",
      "1471384418784\n"
     ]
    }
   ],
   "source": [
    "s=\"hello good morning\"\n",
    "s1=s.replace(\"hello\",\"sravya\")\n",
    "print(s1)\n",
    "print(id(s1))\n",
    "print(id(s))"
   ]
  },
  {
   "cell_type": "markdown",
   "metadata": {},
   "source": [
    "** object once we creates a string object,we cannot modify the content,because string is immutale object\n",
    "** if we modify,instead of chnaginf the content in orinal object,it creates object."
   ]
  },
  {
   "cell_type": "markdown",
   "metadata": {},
   "source": [
    "spliting of strings:"
   ]
  },
  {
   "cell_type": "code",
   "execution_count": 35,
   "metadata": {},
   "outputs": [
    {
     "name": "stdout",
     "output_type": "stream",
     "text": [
      "['hello', 'vamshi', 'chowdary']\n"
     ]
    }
   ],
   "source": [
    "s=\"hello vamshi chowdary\"\n",
    "L=s.split()\n",
    "print(L)\n"
   ]
  },
  {
   "cell_type": "code",
   "execution_count": 36,
   "metadata": {},
   "outputs": [
    {
     "name": "stdout",
     "output_type": "stream",
     "text": [
      "['23', '03', '2001']\n"
     ]
    }
   ],
   "source": [
    "date = '23-03-2001'\n",
    "L1=date.split('-')\n",
    "print(L1)"
   ]
  },
  {
   "cell_type": "code",
   "execution_count": 37,
   "metadata": {},
   "outputs": [
    {
     "name": "stdout",
     "output_type": "stream",
     "text": [
      "['4-06-', '000']\n"
     ]
    }
   ],
   "source": [
    "date = '4-06-2000'\n",
    "L1=date.split('2')\n",
    "print(L1)"
   ]
  },
  {
   "cell_type": "markdown",
   "metadata": {},
   "source": [
    "joining a string:"
   ]
  },
  {
   "cell_type": "markdown",
   "metadata": {},
   "source": [
    "syntax:\n",
    "       s=separator_join(group string)"
   ]
  },
  {
   "cell_type": "code",
   "execution_count": null,
   "metadata": {},
   "outputs": [],
   "source": []
  }
 ],
 "metadata": {
  "kernelspec": {
   "display_name": "Python 3",
   "language": "python",
   "name": "python3"
  },
  "language_info": {
   "codemirror_mode": {
    "name": "ipython",
    "version": 3
   },
   "file_extension": ".py",
   "mimetype": "text/x-python",
   "name": "python",
   "nbconvert_exporter": "python",
   "pygments_lexer": "ipython3",
   "version": "3.8.5"
  }
 },
 "nbformat": 4,
 "nbformat_minor": 4
}
